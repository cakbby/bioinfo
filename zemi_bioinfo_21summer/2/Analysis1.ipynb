{
 "cells": [
  {
   "cell_type": "markdown",
   "id": "4076c8c0",
   "metadata": {},
   "source": [
    "# ゼミ第２回Python解析"
   ]
  },
  {
   "cell_type": "markdown",
   "id": "151bfaf2",
   "metadata": {},
   "source": [
    "色々とやってみる…？"
   ]
  },
  {
   "cell_type": "code",
   "execution_count": null,
   "id": "4b18a721",
   "metadata": {},
   "outputs": [],
   "source": [
    "# !conda install ...\n",
    "import numpy as np\n",
    "import pandas as pd\n",
    "import plotly.express as px\n",
    "import plotly.graph_objects as go\n",
    "\n",
    "df = pd.read_table(\"fcount.tsv\")"
   ]
  },
  {
   "cell_type": "code",
   "execution_count": null,
   "id": "b01fc8b1",
   "metadata": {},
   "outputs": [],
   "source": [
    "df.head(3)"
   ]
  },
  {
   "cell_type": "markdown",
   "id": "a3666828",
   "metadata": {},
   "source": [
    "### 整形"
   ]
  },
  {
   "cell_type": "code",
   "execution_count": null,
   "id": "bbda38ac",
   "metadata": {},
   "outputs": [],
   "source": [
    "samples=[\"LNCaP1\", \"LNCaP2\", \"LNCaP3\", \"MR49F1\", \"MR49F2\", \"MR49F3\"]\n",
    "\n",
    "del df[\"Chr\"], df[\"Start\"], df[\"End\"], df[\"Strand\"]\n",
    "\n",
    "for i in range(6):\n",
    "    df[samples[i]] = df[\"SRR82838\"+str(i+87)+\"_sorted_hisat.bam\"]\n",
    "    del df[\"SRR82838\"+str(i+87)+\"_sorted_hisat.bam\"]\n",
    "\n",
    "df"
   ]
  },
  {
   "cell_type": "code",
   "execution_count": null,
   "id": "f5fb965c",
   "metadata": {},
   "outputs": [],
   "source": [
    "# 発現量が全部0の行\n",
    "allzeros = df[(df.iloc[:, 2:]==0).sum(axis=1)==(len(df.columns)-2)]\n",
    "allzeros.head()"
   ]
  },
  {
   "cell_type": "code",
   "execution_count": null,
   "id": "0caa8e46",
   "metadata": {},
   "outputs": [],
   "source": [
    "df = df[(df.iloc[:, 2:]==0).sum(axis=1)<(len(df.columns)-2)]\n",
    "df = df.reset_index(drop=True)\n",
    "df"
   ]
  },
  {
   "cell_type": "markdown",
   "id": "43003486",
   "metadata": {},
   "source": [
    "### 正規化\n"
   ]
  },
  {
   "cell_type": "code",
   "execution_count": null,
   "id": "60431f6c",
   "metadata": {},
   "outputs": [],
   "source": [
    "rpm = df[samples].copy()\n",
    "\n",
    "sums = rpm.sum()\n",
    "sums"
   ]
  },
  {
   "cell_type": "code",
   "execution_count": null,
   "id": "22022204",
   "metadata": {},
   "outputs": [],
   "source": [
    "rpm = 1e6 * rpm / sums # RPM化(全体の合計が1e6)\n",
    "rpm.head()"
   ]
  },
  {
   "cell_type": "code",
   "execution_count": null,
   "id": "f69e1a28",
   "metadata": {},
   "outputs": [],
   "source": [
    "rpm.sum()"
   ]
  },
  {
   "cell_type": "code",
   "execution_count": null,
   "id": "f85f3843",
   "metadata": {},
   "outputs": [],
   "source": [
    "def toRPM(df):\n",
    "    d = df.copy()\n",
    "    sums = d.sum()\n",
    "    return 1e6 * d / sums"
   ]
  },
  {
   "cell_type": "code",
   "execution_count": null,
   "id": "d8ca68c4",
   "metadata": {},
   "outputs": [],
   "source": [
    "def toRPKM(df, gene_lengths):\n",
    "    d = toRPM(df)\n",
    "    return (d.T / gene_lengths * 1e3).T # トリッキーな方法"
   ]
  },
  {
   "cell_type": "code",
   "execution_count": null,
   "id": "ef0fa965",
   "metadata": {},
   "outputs": [],
   "source": [
    "rpkm = toRPKM(df[samples], df[\"Length\"])\n",
    "rpkm.head()"
   ]
  },
  {
   "cell_type": "code",
   "execution_count": null,
   "id": "29006116",
   "metadata": {},
   "outputs": [],
   "source": [
    "def toTPM(df, gene_lengths):\n",
    "    counts = df.values\n",
    "    length = gene_lengths.values\n",
    "    counts_2 = counts / length.reshape(-1, 1) * 1e3\n",
    "    return pd.DataFrame(counts_2 / counts_2.sum(axis=0) * 1e6, columns=df.columns)"
   ]
  },
  {
   "cell_type": "code",
   "execution_count": null,
   "id": "877124e8",
   "metadata": {},
   "outputs": [],
   "source": [
    "tpm = toTPM(df[samples], df[\"Length\"])\n",
    "tpm.head()"
   ]
  },
  {
   "cell_type": "markdown",
   "id": "7982240d",
   "metadata": {},
   "source": [
    "### プロット"
   ]
  },
  {
   "cell_type": "code",
   "execution_count": null,
   "id": "feba2f2b",
   "metadata": {},
   "outputs": [],
   "source": [
    "px.scatter_matrix(tpm)"
   ]
  },
  {
   "cell_type": "code",
   "execution_count": null,
   "id": "bfd1298a",
   "metadata": {},
   "outputs": [],
   "source": [
    "tpm[\"LNCaP_mean\"] = np.mean(tpm[[\"LNCaP1\",\"LNCaP2\",\"LNCaP3\"]], axis=1)\n",
    "tpm[\"LNCaP_var\"] = np.var(tpm[[\"LNCaP1\",\"LNCaP2\",\"LNCaP3\"]], axis=1)\n",
    "tpm[\"MR49F_mean\"] = np.mean(tpm[[\"MR49F1\",\"MR49F2\",\"MR49F3\"]], axis=1)\n",
    "tpm[\"MR49F_var\"] = np.var(tpm[[\"MR49F1\",\"MR49F2\",\"MR49F3\"]], axis=1)\n",
    "tpm[\"mean\"] = np.mean(tpm, axis=1)\n",
    "tpm[\"var\"] = np.var(tpm, axis=1)\n",
    "tpm.head()"
   ]
  },
  {
   "cell_type": "code",
   "execution_count": null,
   "id": "7e4ed451",
   "metadata": {},
   "outputs": [],
   "source": [
    "px.scatter(tpm, x=\"mean\", y=\"var\", log_x=True, log_y=True)"
   ]
  },
  {
   "cell_type": "code",
   "execution_count": null,
   "id": "41490364",
   "metadata": {},
   "outputs": [],
   "source": [
    "fig = go.Figure()\n",
    "fig.add_trace(go.Scatter(mode=\"markers\", x=tpm[\"LNCaP_mean\"], y=tpm[\"LNCaP_var\"], marker=dict(size=1), name=\"LNCaP\"))\n",
    "fig.add_trace(go.Scatter(mode=\"markers\", x=tpm[\"MR49F_mean\"], y=tpm[\"MR49F_var\"], marker=dict(size=1), name=\"MR49F\"))\n",
    "fig.add_trace(go.Scatter(mode=\"markers\", x=tpm[\"mean\"], y=tpm[\"var\"], marker=dict(size=1), name=\"All\"))\n",
    "fig.add_trace(go.Scatter(x=[1e-7, 1e7], y=[1e-7, 1e7], name=\"y=x\"))\n",
    "fig.update_xaxes(type=\"log\", range=[-7, 7])\n",
    "fig.update_yaxes(type=\"log\", range=[-7, 7])\n",
    "fig.show()"
   ]
  },
  {
   "cell_type": "code",
   "execution_count": null,
   "id": "3fb5fa94",
   "metadata": {},
   "outputs": [],
   "source": [
    "rpm[\"LNCaP_mean\"] = np.mean(rpm[[\"LNCaP1\",\"LNCaP2\",\"LNCaP3\"]], axis=1)\n",
    "rpm[\"LNCaP_var\"] = np.var(rpm[[\"LNCaP1\",\"LNCaP2\",\"LNCaP3\"]], axis=1)\n",
    "rpm[\"MR49F_mean\"] = np.mean(rpm[[\"MR49F1\",\"MR49F2\",\"MR49F3\"]], axis=1)\n",
    "rpm[\"MR49F_var\"] = np.var(rpm[[\"MR49F1\",\"MR49F2\",\"MR49F3\"]], axis=1)\n",
    "rpm[\"mean\"] = np.mean(rpm, axis=1)\n",
    "rpm[\"var\"] = np.var(rpm, axis=1)\n",
    "rpm.head()"
   ]
  },
  {
   "cell_type": "code",
   "execution_count": null,
   "id": "63ac624c",
   "metadata": {},
   "outputs": [],
   "source": [
    "fig = go.Figure()\n",
    "fig.add_trace(go.Scatter(mode=\"markers\", x=rpm[\"LNCaP_mean\"], y=rpm[\"LNCaP_var\"], marker=dict(size=1), name=\"LNCaP\"))\n",
    "fig.add_trace(go.Scatter(mode=\"markers\", x=rpm[\"MR49F_mean\"], y=rpm[\"MR49F_var\"], marker=dict(size=1), name=\"MR49F\"))\n",
    "fig.add_trace(go.Scatter(mode=\"markers\", x=rpm[\"mean\"], y=rpm[\"var\"], marker=dict(size=1), name=\"All\"))\n",
    "fig.add_trace(go.Scatter(x=[1e-7, 1e7], y=[1e-7, 1e7], name=\"y=x\"))\n",
    "fig.update_xaxes(type=\"log\", range=[-7, 7])\n",
    "fig.update_yaxes(type=\"log\", range=[-7, 7])\n",
    "fig.show()"
   ]
  },
  {
   "cell_type": "code",
   "execution_count": null,
   "id": "c90d52ce",
   "metadata": {},
   "outputs": [],
   "source": [
    "fig = go.Figure()\n",
    "fig.add_trace(go.Histogram(x=tpm[tpm[\"LNCaP1\"] <= 50][\"LNCaP1\"], name=\"LNCaP1\", nbinsx=100, histnorm='probability'))\n",
    "fig.add_trace(go.Histogram(x=tpm[tpm[\"LNCaP2\"] <= 50][\"LNCaP2\"], name=\"LNCaP2\", nbinsx=100, histnorm='probability'))\n",
    "fig.add_trace(go.Histogram(x=tpm[tpm[\"LNCaP3\"] <= 50][\"LNCaP3\"], name=\"LNCaP3\", nbinsx=100, histnorm='probability'))\n",
    "fig.add_trace(go.Histogram(x=tpm[tpm[\"MR49F1\"] <= 50][\"MR49F1\"], name=\"MR49F1\", nbinsx=100, histnorm='probability'))\n",
    "fig.add_trace(go.Histogram(x=tpm[tpm[\"MR49F2\"] <= 50][\"MR49F2\"], name=\"MR49F2\", nbinsx=100, histnorm='probability'))\n",
    "fig.add_trace(go.Histogram(x=tpm[tpm[\"MR49F3\"] <= 50][\"MR49F3\"], name=\"MR49F3\", nbinsx=100, histnorm='probability'))\n",
    "fig.update_layout(barmode='overlay')\n",
    "fig.update_traces(opacity=0.75)\n",
    "fig.show()"
   ]
  },
  {
   "cell_type": "markdown",
   "id": "7745f722",
   "metadata": {},
   "source": [
    "### サンプルの検定"
   ]
  },
  {
   "cell_type": "code",
   "execution_count": null,
   "id": "2d7e79d2",
   "metadata": {},
   "outputs": [],
   "source": [
    "from scipy import stats\n",
    "import statsmodels.stats.multitest as multi\n",
    "import statsmodels.formula.api as smf\n",
    "import statsmodels.api as sm\n",
    "\n",
    "# Spearman 相関係数\n",
    "corr, p = stats.spearmanr(tpm.LNCaP1, tpm.LNCaP2)\n",
    "print(\"corr:\", corr, \"p:\", p)\n",
    "corr, p = stats.spearmanr(tpm.LNCaP1, tpm.LNCaP3)\n",
    "print(\"corr:\", corr, \"p:\", p)\n",
    "corr, p = stats.spearmanr(tpm.LNCaP2, tpm.LNCaP3)\n",
    "print(\"corr:\", corr, \"p:\", p)\n",
    "\n",
    "corr, p = stats.spearmanr(tpm.MR49F1, tpm.MR49F2)\n",
    "print(\"corr:\", corr, \"p:\", p)\n",
    "corr, p = stats.spearmanr(tpm.MR49F1, tpm.MR49F3)\n",
    "print(\"corr:\", corr, \"p:\", p)\n",
    "corr, p = stats.spearmanr(tpm.MR49F2, tpm.MR49F3)\n",
    "print(\"corr:\", corr, \"p:\", p)\n",
    "\n",
    "corr, p = stats.spearmanr(tpm.LNCaP1, tpm.MR49F1)\n",
    "print(\"corr:\", corr, \"p:\", p)\n",
    "corr, p = stats.spearmanr(tpm.LNCaP2, tpm.MR49F2)\n",
    "print(\"corr:\", corr, \"p:\", p)"
   ]
  },
  {
   "cell_type": "code",
   "execution_count": null,
   "id": "7de11c9c",
   "metadata": {},
   "outputs": [],
   "source": [
    "# Mann-Whitney Utest\n",
    "\n",
    "l1m1 = stats.mannwhitneyu(tpm.LNCaP1, tpm.MR49F1, alternative='two-sided')\n",
    "l1m2 = stats.mannwhitneyu(tpm.LNCaP1, tpm.MR49F2, alternative='two-sided')\n",
    "l1m3 = stats.mannwhitneyu(tpm.LNCaP1, tpm.MR49F3, alternative='two-sided')\n",
    "l2m1 = stats.mannwhitneyu(tpm.LNCaP2, tpm.MR49F1, alternative='two-sided')\n",
    "l2m2 = stats.mannwhitneyu(tpm.LNCaP2, tpm.MR49F2, alternative='two-sided')\n",
    "l2m3 = stats.mannwhitneyu(tpm.LNCaP2, tpm.MR49F3, alternative='two-sided')\n",
    "l3m1 = stats.mannwhitneyu(tpm.LNCaP3, tpm.MR49F1, alternative='two-sided')\n",
    "l3m2 = stats.mannwhitneyu(tpm.LNCaP3, tpm.MR49F2, alternative='two-sided')\n",
    "l3m3 = stats.mannwhitneyu(tpm.LNCaP3, tpm.MR49F3, alternative='two-sided')\n",
    "\n",
    "l1l2 = stats.mannwhitneyu(tpm.LNCaP1, tpm.LNCaP2, alternative='two-sided')\n",
    "l1l3 = stats.mannwhitneyu(tpm.LNCaP1, tpm.LNCaP3, alternative='two-sided')\n",
    "l2l3 = stats.mannwhitneyu(tpm.LNCaP2, tpm.LNCaP3, alternative='two-sided')\n",
    "m1m2 = stats.mannwhitneyu(tpm.MR49F1, tpm.MR49F2, alternative='two-sided')\n",
    "m1m3 = stats.mannwhitneyu(tpm.MR49F1, tpm.MR49F3, alternative='two-sided')\n",
    "m2m3 = stats.mannwhitneyu(tpm.MR49F2, tpm.MR49F3, alternative='two-sided')\n",
    "\n",
    "print(l1m1.pvalue, l1m2.pvalue, l1m3.pvalue, l2m1.pvalue, l2m2.pvalue, l2m3.pvalue, l3m1.pvalue, l3m2.pvalue, l3m3.pvalue)\n",
    "# 果たして replicate なのか\n",
    "print(l1l2.pvalue, l1l3.pvalue, l2l3.pvalue, m1m2.pvalue, m1m3.pvalue, m2m3.pvalue)"
   ]
  },
  {
   "cell_type": "markdown",
   "id": "32756213",
   "metadata": {},
   "source": [
    "発現変動の検定（雑）をやってみよう"
   ]
  },
  {
   "cell_type": "code",
   "execution_count": null,
   "id": "765c137f",
   "metadata": {},
   "outputs": [],
   "source": [
    "ngene = len(tpm.values)\n",
    "pv = np.zeros(ngene)\n",
    "\n",
    "for i in range(ngene):\n",
    "    x = tpm.LNCaP1[i] + tpm.LNCaP2[i] + tpm.LNCaP3[i]\n",
    "    y = tpm.MR49F1[i] + tpm.MR49F2[i] + tpm.MR49F3[i]\n",
    "    \n",
    "    if (tpm.iloc[i, :]==0).sum() > 1:\n",
    "        pv[i] = 1\n",
    "    else:\n",
    "        chi = stats.chi2_contingency(np.array([[x,y],[3e6-x, 3e6-y]]))\n",
    "        pv[i] = chi[1]"
   ]
  },
  {
   "cell_type": "code",
   "execution_count": null,
   "id": "e7672d53",
   "metadata": {},
   "outputs": [],
   "source": [
    "bonf = multi.multipletests(pv, alpha=0.05, method='Bonferroni')\n",
    "fdr = multi.multipletests(pv, alpha=0.05, method='fdr_bh')\n",
    "print(bonf[1][:20])\n",
    "print(fdr[1][:20])"
   ]
  },
  {
   "cell_type": "code",
   "execution_count": null,
   "id": "a5b4b825",
   "metadata": {},
   "outputs": [],
   "source": [
    "px.histogram(bonf[1], log_y=True)"
   ]
  },
  {
   "cell_type": "code",
   "execution_count": null,
   "id": "63b3c12a",
   "metadata": {},
   "outputs": [],
   "source": [
    "px.histogram(fdr[1],log_y=True)"
   ]
  },
  {
   "cell_type": "code",
   "execution_count": null,
   "id": "c941acd7",
   "metadata": {},
   "outputs": [],
   "source": [
    "tests = df[[\"Geneid\"]]\n",
    "tests = tests.join(pd.DataFrame(bonf[1], columns=[\"Bonferroni\"]))\n",
    "tests = tests.join(pd.DataFrame(fdr[1], columns=[\"FDR\"]))\n",
    "tests"
   ]
  },
  {
   "cell_type": "markdown",
   "id": "51a0138b",
   "metadata": {},
   "source": [
    "Homo_sapiens.GRCh38.104.gtf から \"Gene_id\" と \"gene_name\" の情報を抜き出したい！\n",
    "でもgtfファイル自身は落としたくない…\n",
    "→こういう時は shell で解決！"
   ]
  },
  {
   "cell_type": "code",
   "execution_count": null,
   "id": "5802c743",
   "metadata": {},
   "outputs": [],
   "source": [
    "#(シェル) tail -n +6 Homo_sapiens.GRCh38.104.gtf | awk -F \"[ \\t;]\" '($3 == \"gene\" && $15 == \"gene_name\") { print $10\"\\t\"$16 }' > id_names.tsv\n",
    "# あとは scp なりで手元に落としてくる\n",
    "# tsv ファイルの最初に \"Geneid\" と \"name\" を追加しておく(header)"
   ]
  },
  {
   "cell_type": "code",
   "execution_count": null,
   "id": "5b50f167",
   "metadata": {
    "scrolled": true
   },
   "outputs": [],
   "source": [
    "geneinfo = pd.read_table(\"id_names.tsv\", header=None)\n",
    "geneinfo.columns=[\"Geneid\", \"Name\"]\n",
    "geneinfo.head()"
   ]
  },
  {
   "cell_type": "code",
   "execution_count": null,
   "id": "9b10aa64",
   "metadata": {},
   "outputs": [],
   "source": [
    "tests_with_name = tests.merge(geneinfo)\n",
    "# Name のないものはぶち消してる可能性がある…\n",
    "tests_with_name"
   ]
  },
  {
   "cell_type": "code",
   "execution_count": null,
   "id": "70e67ff6",
   "metadata": {},
   "outputs": [],
   "source": [
    "tests_with_name[tests_with_name[\"Bonferroni\"] < 0.05]"
   ]
  },
  {
   "cell_type": "code",
   "execution_count": null,
   "id": "e182fb85",
   "metadata": {},
   "outputs": [],
   "source": [
    "tests_with_name[tests_with_name[\"FDR\"] < 0.05]"
   ]
  },
  {
   "cell_type": "code",
   "execution_count": null,
   "id": "6e6a2972",
   "metadata": {},
   "outputs": [],
   "source": [
    "f = open(\"ChiSquared_Bonferroni.txt\", 'w')\n",
    "for name in tests_with_name[tests_with_name[\"Bonferroni\"] < 0.05][\"Name\"]:\n",
    "    f.write(name)\n",
    "    f.write('\\n')\n",
    "f.close()"
   ]
  },
  {
   "cell_type": "code",
   "execution_count": null,
   "id": "8b5f9484",
   "metadata": {},
   "outputs": [],
   "source": [
    "tpm_with_id = df[[\"Geneid\"]].join(tpm).merge(geneinfo)\n",
    "chi_bonf_tpm = tpm_with_id[tpm_with_id[\"Geneid\"].isin(tests[tests[\"Bonferroni\"] < 0.05][\"Geneid\"])]\n",
    "\n",
    "fig = go.Figure()\n",
    "fig.add_trace(go.Scatter(mode=\"markers\", x=np.log(tpm_with_id[\"mean\"]), y=np.log(tpm_with_id[\"MR49F_mean\"])-np.log(tpm_with_id[\"LNCaP_mean\"]), name=\"all\", marker=dict(size=2), hovertext=tpm_with_id[\"Name\"]))\n",
    "fig.add_trace(go.Scatter(mode=\"markers\", x=np.log(chi_bonf_tpm[\"mean\"]), y=np.log(chi_bonf_tpm[\"MR49F_mean\"])-np.log(chi_bonf_tpm[\"LNCaP_mean\"]), name=\"DEG\", marker=dict(size=2), hovertext=chi_bonf_tpm[\"Name\"]))\n",
    "fig.show()"
   ]
  },
  {
   "cell_type": "code",
   "execution_count": null,
   "id": "42a9a4e0",
   "metadata": {},
   "outputs": [],
   "source": [
    "f = open(\"ChiSquared_FDR.txt\", 'w')\n",
    "for name in tests_with_name[tests_with_name[\"FDR\"] < 0.05][\"Name\"]:\n",
    "    f.write(name)\n",
    "    f.write('\\n')\n",
    "f.close()"
   ]
  },
  {
   "cell_type": "code",
   "execution_count": null,
   "id": "218f7593",
   "metadata": {},
   "outputs": [],
   "source": [
    "tpm_with_id = df[[\"Geneid\"]].join(tpm).merge(geneinfo)\n",
    "chi_fdr_tpm = tpm_with_id[tpm_with_id[\"Geneid\"].isin(tests[tests[\"FDR\"] < 0.05][\"Geneid\"])]\n",
    "\n",
    "fig = go.Figure()\n",
    "fig.add_trace(go.Scatter(mode=\"markers\", x=np.log(tpm_with_id[\"mean\"]), y=np.log(tpm_with_id[\"MR49F_mean\"])-np.log(tpm_with_id[\"LNCaP_mean\"]), name=\"all\", marker=dict(size=2), hovertext=tpm_with_id[\"Name\"]))\n",
    "fig.add_trace(go.Scatter(mode=\"markers\", x=np.log(chi_fdr_tpm[\"mean\"]), y=np.log(chi_fdr_tpm[\"MR49F_mean\"])-np.log(chi_fdr_tpm[\"LNCaP_mean\"]), name=\"DEG\", marker=dict(size=2), hovertext=chi_fdr_tpm[\"Name\"]))\n",
    "fig.show()"
   ]
  },
  {
   "cell_type": "markdown",
   "id": "9dc3157c",
   "metadata": {},
   "source": [
    "### よりガッツリ\"Machine Learning\"な方法で\n",
    "\n",
    "Generalized linear models によって ポアソン分布 or 負の二項分布 を仮定した 最尤推定 とか AIC によるモデル選択など"
   ]
  },
  {
   "cell_type": "code",
   "execution_count": null,
   "id": "b427b54c",
   "metadata": {},
   "outputs": [],
   "source": [
    "poisson = smf.glm(\"tpm.LNCaP1 ~ 1\", data=tpm.LNCaP1, family=sm.families.Poisson())\n",
    "res1 = poisson.fit()\n",
    "res1.summary()"
   ]
  },
  {
   "cell_type": "code",
   "execution_count": null,
   "id": "93a4f143",
   "metadata": {},
   "outputs": [],
   "source": [
    "NB = smf.glm(\"tpm.LNCaP1 ~ 1\", data=tpm.LNCaP1, family=sm.families.NegativeBinomial())\n",
    "res2 = NB.fit()\n",
    "res2.summary()"
   ]
  },
  {
   "cell_type": "code",
   "execution_count": null,
   "id": "943fbbca",
   "metadata": {},
   "outputs": [],
   "source": [
    "print(res1.aic, res2.aic)"
   ]
  },
  {
   "cell_type": "markdown",
   "id": "020fab4b",
   "metadata": {},
   "source": [
    "edgeR および DESeq2 のような高度な解析ソフトは全部 R に集まっているので、Pythonではできません。"
   ]
  }
 ],
 "metadata": {
  "kernelspec": {
   "display_name": "Python 3",
   "language": "python",
   "name": "python3"
  },
  "language_info": {
   "codemirror_mode": {
    "name": "ipython",
    "version": 3
   },
   "file_extension": ".py",
   "mimetype": "text/x-python",
   "name": "python",
   "nbconvert_exporter": "python",
   "pygments_lexer": "ipython3",
   "version": "3.8.3"
  }
 },
 "nbformat": 4,
 "nbformat_minor": 5
}
